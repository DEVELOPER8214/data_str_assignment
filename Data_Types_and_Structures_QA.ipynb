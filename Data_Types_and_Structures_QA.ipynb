{
 "cells": [
  {
   "cell_type": "markdown",
   "id": "a14212c5",
   "metadata": {},
   "source": [
    "**Q1. What are data structures, and why are they important?**\n",
    "\n",
    "**Answer:** Data structures are methods of organizing data (e.g., arrays, trees) to allow efficient storage, retrieval, and manipulation."
   ]
  },
  {
   "cell_type": "markdown",
   "id": "56ff8d3c",
   "metadata": {},
   "source": [
    "**Q2. Explain the difference between mutable and immutable data types with examples.**\n",
    "\n",
    "**Answer:** Mutable types (e.g., list `[1,2]`) can be changed, but immutable types (e.g., tuple `(1,2)`) cannot be modified after creation."
   ]
  },
  {
   "cell_type": "markdown",
   "id": "1b61bb16",
   "metadata": {},
   "source": [
    "**Q3. What are the main differences between lists and tuples in Python?**\n",
    "\n",
    "**Answer:** Lists are mutable and slower, while tuples are immutable, faster, and used when data must not change."
   ]
  },
  {
   "cell_type": "markdown",
   "id": "1099e744",
   "metadata": {},
   "source": [
    "**Q4. Describe how dictionaries store data.**\n",
    "\n",
    "**Answer:** Dictionaries store data as unordered key-value pairs using hashing for fast access."
   ]
  },
  {
   "cell_type": "markdown",
   "id": "3720a9e6",
   "metadata": {},
   "source": [
    "**Q5. Why might you use a set instead of a list in Python?**\n",
    "\n",
    "**Answer:** Sets automatically remove duplicates and offer faster membership checks."
   ]
  },
  {
   "cell_type": "markdown",
   "id": "9ffd9331",
   "metadata": {},
   "source": [
    "**Q6. What is a string in Python, and how is it different from a list?**\n",
    "\n",
    "**Answer:** A string is an immutable sequence of characters, while a list is mutable and can hold any data types."
   ]
  },
  {
   "cell_type": "markdown",
   "id": "4a17351c",
   "metadata": {},
   "source": [
    "**Q7. How do tuples ensure data integrity in Python?**\n",
    "\n",
    "**Answer:** Tuples are immutable, so data cannot be changed accidentally after creation."
   ]
  },
  {
   "cell_type": "markdown",
   "id": "ed7fd810",
   "metadata": {},
   "source": [
    "**Q8. What is a hash table, and how does it relate to dictionaries in Python?**\n",
    "\n",
    "**Answer:** A hash table is a data structure that maps keys to values using hash functions. Python dictionaries use hash tables internally."
   ]
  },
  {
   "cell_type": "markdown",
   "id": "e5a7b5ed",
   "metadata": {},
   "source": [
    "**Q9. Can lists contain different data types in Python?**\n",
    "\n",
    "**Answer:** Yes, a single list can hold mixed data types like `[1, \"text\", 3.5]`."
   ]
  },
  {
   "cell_type": "markdown",
   "id": "d227ecea",
   "metadata": {},
   "source": [
    "**Q10. Explain why strings are immutable in Python.**\n",
    "\n",
    "**Answer:** Strings are immutable to ensure memory efficiency and security, as they are widely used as keys in dictionaries."
   ]
  },
  {
   "cell_type": "markdown",
   "id": "2c4d9703",
   "metadata": {},
   "source": [
    "**Q11. What advantages do dictionaries offer over lists for certain tasks?**\n",
    "\n",
    "**Answer:** Dictionaries allow fast key-based lookups, unlike lists which require searching by index or value."
   ]
  },
  {
   "cell_type": "markdown",
   "id": "1006ee81",
   "metadata": {},
   "source": [
    "**Q12. Describe a scenario where using a tuple would be preferable over a list.**\n",
    "\n",
    "**Answer:** When storing fixed data like coordinates `(x, y)` where modification is not required."
   ]
  },
  {
   "cell_type": "markdown",
   "id": "6eabe27d",
   "metadata": {},
   "source": [
    "**Q13. How do sets handle duplicate values in Python?**\n",
    "\n",
    "**Answer:** Sets automatically remove duplicate elements and store only unique values."
   ]
  },
  {
   "cell_type": "markdown",
   "id": "c3ac0203",
   "metadata": {},
   "source": [
    "**Q14. How does the “in” keyword work differently for lists and dictionaries?**\n",
    "\n",
    "**Answer:** For lists, it checks elements. For dictionaries, it checks only keys."
   ]
  },
  {
   "cell_type": "markdown",
   "id": "eabe69e9",
   "metadata": {},
   "source": [
    "**Q15. Can you modify the elements of a tuple? Explain why or why not.**\n",
    "\n",
    "**Answer:** No, tuples are immutable; their elements cannot be changed after creation."
   ]
  },
  {
   "cell_type": "markdown",
   "id": "39d35bad",
   "metadata": {},
   "source": [
    "**Q16. What is a nested dictionary, and give an example of its use case.**\n",
    "\n",
    "**Answer:** A dictionary inside another dictionary, e.g., `{\"student\": {\"name\": \"John\", \"age\": 20}}` used for structured data."
   ]
  },
  {
   "cell_type": "markdown",
   "id": "345d92d3",
   "metadata": {},
   "source": [
    "**Q17. Describe the time complexity of accessing elements in a dictionary.**\n",
    "\n",
    "**Answer:** Accessing an element is on average **O(1)** due to hash table implementation."
   ]
  },
  {
   "cell_type": "markdown",
   "id": "61919dd9",
   "metadata": {},
   "source": [
    "**Q18. In what situations are lists preferred over dictionaries?**\n",
    "\n",
    "**Answer:** When order matters or when accessing data by index rather than keys."
   ]
  },
  {
   "cell_type": "markdown",
   "id": "f8b7daef",
   "metadata": {},
   "source": [
    "**Q19. Why are dictionaries considered unordered, and how does that affect data retrieval?**\n",
    "\n",
    "**Answer:** Dictionaries use hashing, so elements have no fixed order, making index-based retrieval impossible."
   ]
  },
  {
   "cell_type": "markdown",
   "id": "9de0b234",
   "metadata": {},
   "source": [
    "**Q20. Explain the difference between a list and a dictionary in terms of data retrieval.**\n",
    "\n",
    "**Answer:** Lists use index positions for retrieval, while dictionaries use keys for fast lookups."
   ]
  },
  {
   "cell_type": "markdown",
   "id": "08149c00",
   "metadata": {},
   "source": [
    "**Q21. Write a code to create a string with your name and print it.**"
   ]
  },
  {
   "cell_type": "code",
   "execution_count": null,
   "id": "7a116478",
   "metadata": {},
   "outputs": [],
   "source": [
    "name = \"Rishabh\"\n",
    "print(name)"
   ]
  },
  {
   "cell_type": "markdown",
   "id": "faed2ea4",
   "metadata": {},
   "source": [
    "**Q22. Write a code to find the length of the string \"Hello World\".**"
   ]
  },
  {
   "cell_type": "code",
   "execution_count": null,
   "id": "eeba774b",
   "metadata": {},
   "outputs": [],
   "source": [
    "text = \"Hello World\"\n",
    "print(len(text))"
   ]
  },
  {
   "cell_type": "markdown",
   "id": "165010ac",
   "metadata": {},
   "source": [
    "**Q23. Write a code to slice the first 3 characters from the string \"Python Programming\".**"
   ]
  },
  {
   "cell_type": "code",
   "execution_count": null,
   "id": "28821cf7",
   "metadata": {},
   "outputs": [],
   "source": [
    "s = \"Python Programming\"\n",
    "print(s[:3])"
   ]
  },
  {
   "cell_type": "markdown",
   "id": "840894ab",
   "metadata": {},
   "source": [
    "**Q24. Write a code to convert the string \"hello\" to uppercase.**"
   ]
  },
  {
   "cell_type": "code",
   "execution_count": null,
   "id": "3ba6bdcd",
   "metadata": {},
   "outputs": [],
   "source": [
    "s = \"hello\"\n",
    "print(s.upper())"
   ]
  },
  {
   "cell_type": "markdown",
   "id": "bc6dfd51",
   "metadata": {},
   "source": [
    "**Q25. Write a code to replace the word \"apple\" with \"orange\" in the string \"I like apple\".**"
   ]
  },
  {
   "cell_type": "code",
   "execution_count": null,
   "id": "7f71d0aa",
   "metadata": {},
   "outputs": [],
   "source": [
    "s = \"I like apple\"\n",
    "print(s.replace(\"apple\", \"orange\"))"
   ]
  },
  {
   "cell_type": "markdown",
   "id": "a017f325",
   "metadata": {},
   "source": [
    "**Q26. Write a code to create a list with numbers 1 to 5 and print it.**"
   ]
  },
  {
   "cell_type": "code",
   "execution_count": null,
   "id": "5816da6d",
   "metadata": {},
   "outputs": [],
   "source": [
    "lst = [1, 2, 3, 4, 5]\n",
    "print(lst)"
   ]
  },
  {
   "cell_type": "markdown",
   "id": "8d5d77ac",
   "metadata": {},
   "source": [
    "**Q27. Write a code to append the number 10 to the list [1, 2, 3, 4].**"
   ]
  },
  {
   "cell_type": "code",
   "execution_count": null,
   "id": "5fffaab2",
   "metadata": {},
   "outputs": [],
   "source": [
    "lst = [1, 2, 3, 4]\n",
    "lst.append(10)\n",
    "print(lst)"
   ]
  },
  {
   "cell_type": "markdown",
   "id": "3c8bc014",
   "metadata": {},
   "source": [
    "**Q28. Write a code to remove the number 3 from the list [1, 2, 3, 4, 5].**"
   ]
  },
  {
   "cell_type": "code",
   "execution_count": null,
   "id": "400a30e0",
   "metadata": {},
   "outputs": [],
   "source": [
    "lst = [1, 2, 3, 4, 5]\n",
    "lst.remove(3)\n",
    "print(lst)"
   ]
  },
  {
   "cell_type": "markdown",
   "id": "c219ba80",
   "metadata": {},
   "source": [
    "**Q29. Write a code to access the second element in the list ['a', 'b', 'c', 'd'].**"
   ]
  },
  {
   "cell_type": "code",
   "execution_count": null,
   "id": "9c58a0e9",
   "metadata": {},
   "outputs": [],
   "source": [
    "lst = ['a', 'b', 'c', 'd']\n",
    "print(lst[1])"
   ]
  },
  {
   "cell_type": "markdown",
   "id": "a4ea8894",
   "metadata": {},
   "source": [
    "**Q30. Write a code to reverse the list [10, 20, 30, 40, 50].**"
   ]
  },
  {
   "cell_type": "code",
   "execution_count": null,
   "id": "b3ed9211",
   "metadata": {},
   "outputs": [],
   "source": [
    "lst = [10, 20, 30, 40, 50]\n",
    "lst.reverse()\n",
    "print(lst)"
   ]
  },
  {
   "cell_type": "markdown",
   "id": "d026184b",
   "metadata": {},
   "source": [
    "**Q31. Write a code to create a tuple with the elements 100, 200, 300 and print it.**"
   ]
  },
  {
   "cell_type": "code",
   "execution_count": null,
   "id": "618f4dbf",
   "metadata": {},
   "outputs": [],
   "source": [
    "t = (100, 200, 300)\n",
    "print(t)"
   ]
  },
  {
   "cell_type": "markdown",
   "id": "5acb5419",
   "metadata": {},
   "source": [
    "**Q32. Write a code to access the second-to-last element of the tuple ('red', 'green', 'blue', 'yellow').**"
   ]
  },
  {
   "cell_type": "code",
   "execution_count": null,
   "id": "4b57b6f4",
   "metadata": {},
   "outputs": [],
   "source": [
    "t = ('red', 'green', 'blue', 'yellow')\n",
    "print(t[-2])"
   ]
  },
  {
   "cell_type": "markdown",
   "id": "b3ee1645",
   "metadata": {},
   "source": [
    "**Q33. Write a code to find the minimum number in the tuple (10, 20, 5, 15).**"
   ]
  },
  {
   "cell_type": "code",
   "execution_count": null,
   "id": "7bbca366",
   "metadata": {},
   "outputs": [],
   "source": [
    "t = (10, 20, 5, 15)\n",
    "print(min(t))"
   ]
  },
  {
   "cell_type": "markdown",
   "id": "e48f8e55",
   "metadata": {},
   "source": [
    "**Q34. Write a code to find the index of the element \"cat\" in the tuple ('dog', 'cat', 'rabbit').**"
   ]
  },
  {
   "cell_type": "code",
   "execution_count": null,
   "id": "be630d8a",
   "metadata": {},
   "outputs": [],
   "source": [
    "t = ('dog', 'cat', 'rabbit')\n",
    "print(t.index('cat'))"
   ]
  },
  {
   "cell_type": "markdown",
   "id": "e6b7179d",
   "metadata": {},
   "source": [
    "**Q35. Write a code to create a tuple containing three different fruits and check if \"kiwi\" is in it.**"
   ]
  },
  {
   "cell_type": "code",
   "execution_count": null,
   "id": "58910588",
   "metadata": {},
   "outputs": [],
   "source": [
    "t = ('apple', 'banana', 'mango')\n",
    "print('kiwi' in t)"
   ]
  },
  {
   "cell_type": "markdown",
   "id": "65e3ca3f",
   "metadata": {},
   "source": [
    "**Q36. Write a code to create a set with the elements 'a', 'b', 'c' and print it.**"
   ]
  },
  {
   "cell_type": "code",
   "execution_count": null,
   "id": "9d7f6ab3",
   "metadata": {},
   "outputs": [],
   "source": [
    "s = {'a', 'b', 'c'}\n",
    "print(s)"
   ]
  },
  {
   "cell_type": "markdown",
   "id": "4e701faf",
   "metadata": {},
   "source": [
    "**Q37. Write a code to clear all elements from the set {1, 2, 3, 4, 5}.**"
   ]
  },
  {
   "cell_type": "code",
   "execution_count": null,
   "id": "facd642b",
   "metadata": {},
   "outputs": [],
   "source": [
    "s = {1, 2, 3, 4, 5}\n",
    "s.clear()\n",
    "print(s)"
   ]
  },
  {
   "cell_type": "markdown",
   "id": "86471b3d",
   "metadata": {},
   "source": [
    "**Q38. Write a code to remove the element 4 from the set {1, 2, 3, 4}.**"
   ]
  },
  {
   "cell_type": "code",
   "execution_count": null,
   "id": "4722ba32",
   "metadata": {},
   "outputs": [],
   "source": [
    "s = {1, 2, 3, 4}\n",
    "s.remove(4)\n",
    "print(s)"
   ]
  },
  {
   "cell_type": "markdown",
   "id": "43df9aff",
   "metadata": {},
   "source": [
    "**Q39. Write a code to find the union of two sets {1, 2, 3} and {3, 4, 5}.**"
   ]
  },
  {
   "cell_type": "code",
   "execution_count": null,
   "id": "e2b328b8",
   "metadata": {},
   "outputs": [],
   "source": [
    "s1 = {1, 2, 3}\n",
    "s2 = {3, 4, 5}\n",
    "print(s1.union(s2))"
   ]
  },
  {
   "cell_type": "markdown",
   "id": "6e075b86",
   "metadata": {},
   "source": [
    "**Q40. Write a code to find the intersection of two sets {1, 2, 3} and {2, 3, 4}.**"
   ]
  },
  {
   "cell_type": "code",
   "execution_count": null,
   "id": "9fa1e382",
   "metadata": {},
   "outputs": [],
   "source": [
    "s1 = {1, 2, 3}\n",
    "s2 = {2, 3, 4}\n",
    "print(s1.intersection(s2))"
   ]
  },
  {
   "cell_type": "markdown",
   "id": "79c72057",
   "metadata": {},
   "source": [
    "**Q41. Write a code to create a dictionary with the keys \"name\", \"age\", and \"city\", and print it.**"
   ]
  },
  {
   "cell_type": "code",
   "execution_count": null,
   "id": "9ddbd5fe",
   "metadata": {},
   "outputs": [],
   "source": [
    "d = {'name': 'John', 'age': 25, 'city': 'Delhi'}\n",
    "print(d)"
   ]
  },
  {
   "cell_type": "markdown",
   "id": "51c24c2d",
   "metadata": {},
   "source": [
    "**Q42. Write a code to add a new key-value pair \"country\": \"USA\" to the dictionary {'name': 'John', 'age': 25}.**"
   ]
  },
  {
   "cell_type": "code",
   "execution_count": null,
   "id": "5d65aefb",
   "metadata": {},
   "outputs": [],
   "source": [
    "d = {'name': 'John', 'age': 25}\n",
    "d['country'] = 'USA'\n",
    "print(d)"
   ]
  },
  {
   "cell_type": "markdown",
   "id": "d8bb9210",
   "metadata": {},
   "source": [
    "**Q43. Write a code to access the value associated with the key \"name\" in the dictionary {'name': 'Alice', 'age': 30}.**"
   ]
  },
  {
   "cell_type": "code",
   "execution_count": null,
   "id": "8a0a8421",
   "metadata": {},
   "outputs": [],
   "source": [
    "d = {'name': 'Alice', 'age': 30}\n",
    "print(d['name'])"
   ]
  },
  {
   "cell_type": "markdown",
   "id": "13549379",
   "metadata": {},
   "source": [
    "**Q44. Write a code to remove the key \"age\" from the dictionary {'name': 'Bob', 'age': 22, 'city': 'New York'}.**"
   ]
  },
  {
   "cell_type": "code",
   "execution_count": null,
   "id": "baf9c073",
   "metadata": {},
   "outputs": [],
   "source": [
    "d = {'name': 'Bob', 'age': 22, 'city': 'New York'}\n",
    "d.pop('age')\n",
    "print(d)"
   ]
  },
  {
   "cell_type": "markdown",
   "id": "96705d1e",
   "metadata": {},
   "source": [
    "**Q45. Write a code to check if the key \"city\" exists in the dictionary {'name': 'Alice', 'city': 'Paris'}.**"
   ]
  },
  {
   "cell_type": "code",
   "execution_count": null,
   "id": "0865000d",
   "metadata": {},
   "outputs": [],
   "source": [
    "d = {'name': 'Alice', 'city': 'Paris'}\n",
    "print('city' in d)"
   ]
  },
  {
   "cell_type": "markdown",
   "id": "a1cedbd5",
   "metadata": {},
   "source": [
    "**Q46. Write a code to create a list, a tuple, and a dictionary, and print them all.**"
   ]
  },
  {
   "cell_type": "code",
   "execution_count": null,
   "id": "081603bd",
   "metadata": {},
   "outputs": [],
   "source": [
    "lst = [1, 2, 3]\n",
    "t = (4, 5, 6)\n",
    "d = {'a': 1, 'b': 2}\n",
    "print(lst, t, d)"
   ]
  },
  {
   "cell_type": "markdown",
   "id": "8818aa29",
   "metadata": {},
   "source": [
    "**Q47. Write a code to create a list of 5 random numbers between 1 and 100, sort it in ascending order, and print the result.**"
   ]
  },
  {
   "cell_type": "code",
   "execution_count": null,
   "id": "5b860acf",
   "metadata": {},
   "outputs": [],
   "source": [
    "import random\n",
    "lst = random.sample(range(1, 101), 5)\n",
    "lst.sort()\n",
    "print(lst)"
   ]
  },
  {
   "cell_type": "markdown",
   "id": "f2b6f858",
   "metadata": {},
   "source": [
    "**Q48. Write a code to create a list with strings and print the element at the third index.**"
   ]
  },
  {
   "cell_type": "code",
   "execution_count": null,
   "id": "be2b8a28",
   "metadata": {},
   "outputs": [],
   "source": [
    "lst = ['apple', 'banana', 'cherry', 'mango']\n",
    "print(lst[3])"
   ]
  },
  {
   "cell_type": "markdown",
   "id": "78aa183b",
   "metadata": {},
   "source": [
    "**Q49. Write a code to combine two dictionaries into one and print the result.**"
   ]
  },
  {
   "cell_type": "code",
   "execution_count": null,
   "id": "bed34be4",
   "metadata": {},
   "outputs": [],
   "source": [
    "d1 = {'a': 1, 'b': 2}\n",
    "d2 = {'c': 3, 'd': 4}\n",
    "d1.update(d2)\n",
    "print(d1)"
   ]
  },
  {
   "cell_type": "markdown",
   "id": "7be21151",
   "metadata": {},
   "source": [
    "**Q50. Write a code to convert a list of strings into a set.**"
   ]
  },
  {
   "cell_type": "code",
   "execution_count": null,
   "id": "fc1fcab4",
   "metadata": {},
   "outputs": [],
   "source": [
    "lst = ['apple', 'banana', 'apple', 'mango']\n",
    "s = set(lst)\n",
    "print(s)"
   ]
  }
 ],
 "metadata": {},
 "nbformat": 4,
 "nbformat_minor": 5
}